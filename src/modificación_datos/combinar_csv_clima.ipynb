{
 "cells": [
  {
   "cell_type": "code",
   "execution_count": 1,
   "metadata": {},
   "outputs": [
    {
     "name": "stdout",
     "output_type": "stream",
     "text": [
      "Cargando: C:/Users/Administrator/Desktop/Proyecto Personal_Estudio de la Procesionaria/dataset/dataset_clima\\tiempo_2002.csv\n",
      "Cargando: C:/Users/Administrator/Desktop/Proyecto Personal_Estudio de la Procesionaria/dataset/dataset_clima\\tiempo_2003.csv\n",
      "Cargando: C:/Users/Administrator/Desktop/Proyecto Personal_Estudio de la Procesionaria/dataset/dataset_clima\\tiempo_2004.csv\n",
      "Cargando: C:/Users/Administrator/Desktop/Proyecto Personal_Estudio de la Procesionaria/dataset/dataset_clima\\tiempo_2005.csv\n",
      "Cargando: C:/Users/Administrator/Desktop/Proyecto Personal_Estudio de la Procesionaria/dataset/dataset_clima\\tiempo_2006.csv\n",
      "Cargando: C:/Users/Administrator/Desktop/Proyecto Personal_Estudio de la Procesionaria/dataset/dataset_clima\\tiempo_2007.csv\n",
      "Cargando: C:/Users/Administrator/Desktop/Proyecto Personal_Estudio de la Procesionaria/dataset/dataset_clima\\tiempo_2008.csv\n",
      "Cargando: C:/Users/Administrator/Desktop/Proyecto Personal_Estudio de la Procesionaria/dataset/dataset_clima\\tiempo_2009.csv\n",
      "Cargando: C:/Users/Administrator/Desktop/Proyecto Personal_Estudio de la Procesionaria/dataset/dataset_clima\\tiempo_2010.csv\n",
      "Cargando: C:/Users/Administrator/Desktop/Proyecto Personal_Estudio de la Procesionaria/dataset/dataset_clima\\tiempo_2011.csv\n",
      "Cargando: C:/Users/Administrator/Desktop/Proyecto Personal_Estudio de la Procesionaria/dataset/dataset_clima\\tiempo_2012.csv\n",
      "Cargando: C:/Users/Administrator/Desktop/Proyecto Personal_Estudio de la Procesionaria/dataset/dataset_clima\\tiempo_2013.csv\n",
      "Cargando: C:/Users/Administrator/Desktop/Proyecto Personal_Estudio de la Procesionaria/dataset/dataset_clima\\tiempo_2014.csv\n",
      "Cargando: C:/Users/Administrator/Desktop/Proyecto Personal_Estudio de la Procesionaria/dataset/dataset_clima\\tiempo_2015.csv\n",
      "Cargando: C:/Users/Administrator/Desktop/Proyecto Personal_Estudio de la Procesionaria/dataset/dataset_clima\\tiempo_2016.csv\n",
      "Cargando: C:/Users/Administrator/Desktop/Proyecto Personal_Estudio de la Procesionaria/dataset/dataset_clima\\tiempo_2017.csv\n",
      "Cargando: C:/Users/Administrator/Desktop/Proyecto Personal_Estudio de la Procesionaria/dataset/dataset_clima\\tiempo_2018.csv\n",
      "Cargando: C:/Users/Administrator/Desktop/Proyecto Personal_Estudio de la Procesionaria/dataset/dataset_clima\\tiempo_2019.csv\n",
      "Cargando: C:/Users/Administrator/Desktop/Proyecto Personal_Estudio de la Procesionaria/dataset/dataset_clima\\tiempo_2020.csv\n",
      "Cargando: C:/Users/Administrator/Desktop/Proyecto Personal_Estudio de la Procesionaria/dataset/dataset_clima\\tiempo_2021.csv\n",
      "Cargando: C:/Users/Administrator/Desktop/Proyecto Personal_Estudio de la Procesionaria/dataset/dataset_clima\\tiempo_2022.csv\n",
      "Cargando: C:/Users/Administrator/Desktop/Proyecto Personal_Estudio de la Procesionaria/dataset/dataset_clima\\tiempo_2023.csv\n",
      "Cargando: C:/Users/Administrator/Desktop/Proyecto Personal_Estudio de la Procesionaria/dataset/dataset_clima\\tiempo_2024.csv\n",
      "Archivos CSV combinados con éxito.\n"
     ]
    }
   ],
   "source": [
    "import pandas as pd\n",
    "import os\n",
    "\n",
    "# Ruta de la carpeta donde están los archivos CSV\n",
    "ruta_carpeta = \"C:/Users/Administrator/Desktop/Proyecto Personal_Estudio de la Procesionaria/dataset/dataset_clima\"\n",
    "\n",
    "# Lista para almacenar cada DataFrame\n",
    "dataframes = []\n",
    "\n",
    "# Iterar sobre los archivos en la carpeta\n",
    "for archivo in os.listdir(ruta_carpeta):\n",
    "    if archivo.endswith(\".csv\"):  # Solo procesar archivos CSV\n",
    "        ruta_archivo = os.path.join(ruta_carpeta, archivo)\n",
    "        print(f\"Cargando: {ruta_archivo}\")  # Opcional: para verificar qué archivos se cargan\n",
    "        df = pd.read_csv(ruta_archivo)  # Leer el CSV\n",
    "        dataframes.append(df)  # Agregar el DataFrame a la lista\n",
    "\n",
    "# Combinar todos los DataFrames en uno solo\n",
    "df = pd.concat(dataframes, ignore_index=True)\n",
    "\n",
    "# Guardar el DataFrame combinado en un nuevo archivo CSV\n",
    "df.to_csv(\"C:/Users/Administrator/Desktop/Proyecto Personal_Estudio de la Procesionaria/dataset/clima_combinado.csv\", index=False)\n",
    "\n",
    "print(\"Archivos CSV combinados con éxito.\")\n"
   ]
  }
 ],
 "metadata": {
  "kernelspec": {
   "display_name": "venv",
   "language": "python",
   "name": "python3"
  },
  "language_info": {
   "codemirror_mode": {
    "name": "ipython",
    "version": 3
   },
   "file_extension": ".py",
   "mimetype": "text/x-python",
   "name": "python",
   "nbconvert_exporter": "python",
   "pygments_lexer": "ipython3",
   "version": "3.12.4"
  }
 },
 "nbformat": 4,
 "nbformat_minor": 2
}
