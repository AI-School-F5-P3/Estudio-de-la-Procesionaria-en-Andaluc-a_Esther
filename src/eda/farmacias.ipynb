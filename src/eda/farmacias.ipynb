{
 "cells": [
  {
   "cell_type": "code",
   "execution_count": 3,
   "metadata": {},
   "outputs": [
    {
     "name": "stdout",
     "output_type": "stream",
     "text": [
      "       id_dera  nica                                             nombre  \\\n",
      "0  1,12134E+14  4917                         ALMAGRO UCEDA, JOSE MIGUEL   \n",
      "1  1,12134E+14  4869                           CRUZ RODRIGUEZ FRANCISCA   \n",
      "2  1,12134E+14  4820                           MARTINEZ DE DIOS MARIANA   \n",
      "3  1,12134E+14  4810  MONEDERO LIÑAN, ISABEL Mª Y MONEDERO LIÑAN JOS...   \n",
      "4  1,12134E+14  4799                             TUÑON ESPINOSA JOAQUIN   \n",
      "\n",
      "                direccion  cod_mun municipio provincia  \\\n",
      "0       PLAZA ANDALUCIA 6    23092     Úbeda      Jaén   \n",
      "1     AVENIDA LIBERTAD 33    23092     Úbeda      Jaén   \n",
      "2          CALLE HUELVA 5    23092     Úbeda      Jaén   \n",
      "3  CALLE RAMON Y CAJAL 16    23092     Úbeda      Jaén   \n",
      "4          CALLE RASTRO 1    23092     Úbeda      Jaén   \n",
      "\n",
      "                                            geometry  \n",
      "0         MULTIPOINT (467333.04000000004 4207105.23)  \n",
      "1       MULTIPOINT (467776.32710000034 4207769.6162)  \n",
      "2        MULTIPOINT (466847.67009999976 4207288.852)  \n",
      "3       MULTIPOINT (467099.35639999993 4207431.6863)  \n",
      "4  MULTIPOINT (467355.39190000016 4207058.4021000...  \n"
     ]
    }
   ],
   "source": [
    "import pandas as pd\n",
    "\n",
    "# Cargar archivo CSV\n",
    "df = pd.read_csv(\n",
    "    \"C:/Users/Administrator/Desktop/Proyecto Personal_Estudio de la Procesionaria/dataset/farmacias_andalucía.csv\",\n",
    "    on_bad_lines='skip',delimiter=';')\n",
    "\n",
    "# Vista previa de los datos\n",
    "print(df.head())"
   ]
  },
  {
   "cell_type": "code",
   "execution_count": 4,
   "metadata": {},
   "outputs": [
    {
     "name": "stdout",
     "output_type": "stream",
     "text": [
      "<class 'pandas.core.frame.DataFrame'>\n",
      "RangeIndex: 3874 entries, 0 to 3873\n",
      "Data columns (total 8 columns):\n",
      " #   Column     Non-Null Count  Dtype \n",
      "---  ------     --------------  ----- \n",
      " 0   id_dera    3874 non-null   object\n",
      " 1   nica       3874 non-null   int64 \n",
      " 2   nombre     3874 non-null   object\n",
      " 3   direccion  3874 non-null   object\n",
      " 4   cod_mun    3874 non-null   int64 \n",
      " 5   municipio  3874 non-null   object\n",
      " 6   provincia  3874 non-null   object\n",
      " 7   geometry   3874 non-null   object\n",
      "dtypes: int64(2), object(6)\n",
      "memory usage: 242.3+ KB\n",
      "None\n",
      "               nica       cod_mun\n",
      "count   3874.000000   3874.000000\n",
      "mean   16902.953278  23254.464636\n",
      "std    11508.292314  11843.517374\n",
      "min     2139.000000   4001.000000\n",
      "25%     4668.250000  14021.000000\n",
      "50%    19747.000000  21043.000000\n",
      "75%    22618.750000  29082.000000\n",
      "max    53664.000000  41904.000000\n"
     ]
    }
   ],
   "source": [
    "# Información general sobre el DataFrame\n",
    "print(df.info())\n",
    "\n",
    "# Estadísticas descriptivas para datos numéricos\n",
    "print(df.describe())\n"
   ]
  },
  {
   "cell_type": "code",
   "execution_count": 5,
   "metadata": {},
   "outputs": [
    {
     "name": "stdout",
     "output_type": "stream",
     "text": [
      "Index(['id_dera', 'nica', 'nombre', 'direccion', 'cod_mun', 'municipio',\n",
      "       'provincia', 'geometry'],\n",
      "      dtype='object')\n"
     ]
    }
   ],
   "source": [
    "#Información del nombre de las columnas\n",
    "print(df.columns)"
   ]
  },
  {
   "cell_type": "code",
   "execution_count": 6,
   "metadata": {},
   "outputs": [
    {
     "name": "stdout",
     "output_type": "stream",
     "text": [
      "id_dera      0\n",
      "nica         0\n",
      "nombre       0\n",
      "direccion    0\n",
      "cod_mun      0\n",
      "municipio    0\n",
      "provincia    0\n",
      "geometry     0\n",
      "dtype: int64\n",
      "id_dera      0.0\n",
      "nica         0.0\n",
      "nombre       0.0\n",
      "direccion    0.0\n",
      "cod_mun      0.0\n",
      "municipio    0.0\n",
      "provincia    0.0\n",
      "geometry     0.0\n",
      "dtype: float64\n"
     ]
    }
   ],
   "source": [
    "# Contar valores nulos por columna\n",
    "print(df.isnull().sum())\n",
    "\n",
    "# Porcentaje de valores nulos por columna\n",
    "missing_percentage = df.isnull().sum() / len(df) * 100\n",
    "print(missing_percentage)"
   ]
  },
  {
   "cell_type": "code",
   "execution_count": 7,
   "metadata": {},
   "outputs": [],
   "source": [
    "# Eliminar columnas con más del 30% de valores nulos\n",
    "threshold = 30\n",
    "columns_to_drop = missing_percentage[missing_percentage > threshold].index\n",
    "df = df.drop(columns=columns_to_drop)\n",
    "\n",
    "# Eliminar filas con valores nulos\n",
    "#df = df.dropna()\n",
    "\n",
    "# Imputar valores nulos (ejemplo: usar la media)\n",
    "#df.fillna(df.mean(), inplace=True)"
   ]
  },
  {
   "cell_type": "code",
   "execution_count": null,
   "metadata": {},
   "outputs": [],
   "source": [
    "df"
   ]
  }
 ],
 "metadata": {
  "kernelspec": {
   "display_name": "venv",
   "language": "python",
   "name": "python3"
  },
  "language_info": {
   "codemirror_mode": {
    "name": "ipython",
    "version": 3
   },
   "file_extension": ".py",
   "mimetype": "text/x-python",
   "name": "python",
   "nbconvert_exporter": "python",
   "pygments_lexer": "ipython3",
   "version": "3.12.4"
  }
 },
 "nbformat": 4,
 "nbformat_minor": 2
}
