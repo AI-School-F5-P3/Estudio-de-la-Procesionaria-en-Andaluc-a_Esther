{
 "cells": [
  {
   "cell_type": "code",
   "execution_count": 5,
   "metadata": {},
   "outputs": [
    {
     "name": "stdout",
     "output_type": "stream",
     "text": [
      "                                                     id_dera;nica;nombre;direccion;cod_mun;municipio;provincia;geometry\n",
      "1 12134E+14;4917;ALMAGRO UCEDA                         JOSE MIGUEL;PLAZA ANDALUCIA 6;23092;Úbeda;Jaé...                \n",
      "  12134E+14;4869;CRUZ RODRIGUEZ FRANCISCA;AVENIDA...                                                NaN                \n",
      "  12134E+14;4820;MARTINEZ DE DIOS MARIANA;CALLE H...                                                NaN                \n",
      "  12134E+14;4810;MONEDERO LIÑAN                        ISABEL Mª Y MONEDERO LIÑAN JOSE JAVIER;CALLE ...                \n",
      "  12134E+14;4799;TUÑON ESPINOSA JOAQUIN;CALLE RAS...                                                NaN                \n"
     ]
    }
   ],
   "source": [
    "import pandas as pd\n",
    "\n",
    "# Cargar archivo CSV\n",
    "df = pd.read_csv(\n",
    "    \"C:/Users/Administrator/Desktop/Proyecto Personal_Estudio de la Procesionaria/dataset/farmacias_andalucía.csv\",\n",
    "    on_bad_lines='skip')\n",
    "\n",
    "# Vista previa de los datos\n",
    "print(df.head())"
   ]
  }
 ],
 "metadata": {
  "kernelspec": {
   "display_name": "venv",
   "language": "python",
   "name": "python3"
  },
  "language_info": {
   "codemirror_mode": {
    "name": "ipython",
    "version": 3
   },
   "file_extension": ".py",
   "mimetype": "text/x-python",
   "name": "python",
   "nbconvert_exporter": "python",
   "pygments_lexer": "ipython3",
   "version": "3.12.4"
  }
 },
 "nbformat": 4,
 "nbformat_minor": 2
}
